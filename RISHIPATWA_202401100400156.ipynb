{
  "nbformat": 4,
  "nbformat_minor": 0,
  "metadata": {
    "colab": {
      "provenance": []
    },
    "kernelspec": {
      "name": "python3",
      "display_name": "Python 3"
    },
    "language_info": {
      "name": "python"
    }
  },
  "cells": [
    {
      "cell_type": "code",
      "source": [
        "import time\n",
        "\n",
        "class TrafficLight:\n",
        "    def __init__(self):\n",
        "        self.states = [\"Red\", \"Green\", \"Yellow\"]\n",
        "        self.current_state = 0  # Start with Red\n",
        "        self.running = True  # Control variable to stop the loop\n",
        "\n",
        "    def change_light(self):\n",
        "        start_time = time.time()  # Record start time\n",
        "        while self.running:\n",
        "            elapsed_time = time.time() - start_time\n",
        "            if elapsed_time >= 60:  # Stop after 1 minute\n",
        "                self.stop()\n",
        "                print(\"\\nTraffic Light System Stopped after 1 minute.\")\n",
        "                break\n",
        "\n",
        "            state = self.states[self.current_state]\n",
        "            if state == \"Red\":\n",
        "                print(\"🛑 Red Light - Stop! (5 sec)\")\n",
        "                time.sleep(5)\n",
        "            elif state == \"Green\":\n",
        "                print(\"🟢 Green Light - Go! (5 sec)\")\n",
        "                time.sleep(5)\n",
        "            elif state == \"Yellow\":\n",
        "                print(\"🟡 Yellow Light - Slow down! (2 sec)\")\n",
        "                time.sleep(2)\n",
        "\n",
        "            self.current_state = (self.current_state + 1) % 3  # Cycle through states\n",
        "\n",
        "    def stop(self):\n",
        "        self.running = False\n",
        "\n",
        "# Run the Traffic Light System\n",
        "if __name__ == \"__main__\":\n",
        "    traffic_light = TrafficLight()\n",
        "    traffic_light.change_light()\n",
        "\n"
      ],
      "metadata": {
        "colab": {
          "base_uri": "https://localhost:8080/"
        },
        "id": "ydChs5WGWFa1",
        "outputId": "9451bb5f-86f2-487b-b83d-2f2bf49c2b6b"
      },
      "execution_count": null,
      "outputs": [
        {
          "output_type": "stream",
          "name": "stdout",
          "text": [
            "🛑 Red Light - Stop! (5 sec)\n",
            "🟢 Green Light - Go! (5 sec)\n",
            "🟡 Yellow Light - Slow down! (2 sec)\n",
            "🛑 Red Light - Stop! (5 sec)\n",
            "🟢 Green Light - Go! (5 sec)\n",
            "🟡 Yellow Light - Slow down! (2 sec)\n",
            "🛑 Red Light - Stop! (5 sec)\n",
            "🟢 Green Light - Go! (5 sec)\n",
            "🟡 Yellow Light - Slow down! (2 sec)\n",
            "🛑 Red Light - Stop! (5 sec)\n",
            "🟢 Green Light - Go! (5 sec)\n",
            "🟡 Yellow Light - Slow down! (2 sec)\n",
            "🛑 Red Light - Stop! (5 sec)\n",
            "🟢 Green Light - Go! (5 sec)\n",
            "🟡 Yellow Light - Slow down! (2 sec)\n"
          ]
        }
      ]
    }
  ]
}